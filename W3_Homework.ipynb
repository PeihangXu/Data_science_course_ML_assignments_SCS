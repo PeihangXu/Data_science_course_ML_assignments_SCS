{
 "cells": [
  {
   "cell_type": "markdown",
   "metadata": {},
   "source": [
    "### Your name:\n",
    "\n",
    "<pre> Your name here</pre>\n",
    "\n",
    "### Collaborators:\n",
    "\n",
    "<pre> Enter the name of the people you worked with if any</pre>\n"
   ]
  },
  {
   "cell_type": "code",
   "execution_count": 9,
   "metadata": {},
   "outputs": [],
   "source": [
    "import numpy as np\n",
    "import pandas as pd\n",
    "\n",
    "# to make this notebook's output stable across runs\n",
    "np.random.seed(123)\n",
    "\n",
    "# To plot pretty figures\n",
    "%matplotlib inline\n",
    "import matplotlib\n",
    "import matplotlib.pyplot as plt\n",
    "plt.rcParams['axes.labelsize'] = 14\n",
    "plt.rcParams['xtick.labelsize'] = 12\n",
    "plt.rcParams['ytick.labelsize'] = 12\n"
   ]
  },
  {
   "cell_type": "markdown",
   "metadata": {},
   "source": [
    "### Classification"
   ]
  },
  {
   "cell_type": "markdown",
   "metadata": {},
   "source": [
    "Q1. Build a classification model for the default of credit card clients dataset. More info here:\n",
    "https://archive.ics.uci.edu/ml/datasets/default+of+credit+card+clients\n",
    "\n",
    "- Explore the data\n",
    "- Make sure you build a full data pipeline\n",
    "- Do you require any data pre-processing? Are all the features useful? (Use only raw features)\n",
    "- set the random seed to 123 (For splitting or any other random algorithm)\n",
    "- Split data into training (80%) and testing (20%)\n",
    "- Follow similar procedure as the one for week 2 (End-to-end Machine Learning Project). Remember apendix B\n",
    "- Study the ROC Curve, decide threshold\n",
    "- Use 2 classifiers.\n",
    "    - Random Forest\n",
    "        - tune only: n_estimators: {4, 5, 10, 20, 50} \n",
    "    - KNN Classfier \n",
    "        - tune only: n_neighbors: {3, 5, 10, 20} \n",
    "    - Which one performs better in the cross validation?\n",
    "    \n",
    "http://scikit-learn.org/stable/modules/generated/sklearn.ensemble.RandomForestClassifier.html\n",
    "http://scikit-learn.org/stable/modules/generated/sklearn.neighbors.KNeighborsClassifier.html\n",
    "\n",
    "- Cross-validation with 5-folds\n",
    "\n",
    "- Other paramenters -> Use default"
   ]
  },
  {
   "cell_type": "markdown",
   "metadata": {},
   "source": [
    "# Open data"
   ]
  },
  {
   "cell_type": "code",
   "execution_count": 10,
   "metadata": {},
   "outputs": [
    {
     "name": "stdout",
     "output_type": "stream",
     "text": [
      "<class 'pandas.core.frame.DataFrame'>\n",
      "RangeIndex: 30000 entries, 0 to 29999\n",
      "Data columns (total 25 columns):\n",
      "ID                            30000 non-null int64\n",
      "LIMIT_BAL                     30000 non-null int64\n",
      "SEX                           30000 non-null int64\n",
      "EDUCATION                     30000 non-null int64\n",
      "MARRIAGE                      30000 non-null int64\n",
      "AGE                           30000 non-null int64\n",
      "PAY_0                         30000 non-null int64\n",
      "PAY_2                         30000 non-null int64\n",
      "PAY_3                         30000 non-null int64\n",
      "PAY_4                         30000 non-null int64\n",
      "PAY_5                         30000 non-null int64\n",
      "PAY_6                         30000 non-null int64\n",
      "BILL_AMT1                     30000 non-null int64\n",
      "BILL_AMT2                     30000 non-null int64\n",
      "BILL_AMT3                     30000 non-null int64\n",
      "BILL_AMT4                     30000 non-null int64\n",
      "BILL_AMT5                     30000 non-null int64\n",
      "BILL_AMT6                     30000 non-null int64\n",
      "PAY_AMT1                      30000 non-null int64\n",
      "PAY_AMT2                      30000 non-null int64\n",
      "PAY_AMT3                      30000 non-null int64\n",
      "PAY_AMT4                      30000 non-null int64\n",
      "PAY_AMT5                      30000 non-null int64\n",
      "PAY_AMT6                      30000 non-null int64\n",
      "default payment next month    30000 non-null int64\n",
      "dtypes: int64(25)\n",
      "memory usage: 5.7 MB\n"
     ]
    }
   ],
   "source": [
    "### Your code here\n",
    "\n",
    "## Feel free to use multiple cells\n",
    "\n",
    "df = pd.read_excel(\"default_of_credit_card_clients.xls\", \n",
    "                    skiprows= 1, header = 0)\n",
    "df.info()"
   ]
  },
  {
   "cell_type": "code",
   "execution_count": 11,
   "metadata": {},
   "outputs": [
    {
     "data": {
      "text/plain": [
       "0    23364\n",
       "1     6636\n",
       "Name: default payment next month, dtype: int64"
      ]
     },
     "execution_count": 11,
     "metadata": {},
     "output_type": "execute_result"
    }
   ],
   "source": [
    "df['default payment next month'].value_counts()"
   ]
  },
  {
   "cell_type": "code",
   "execution_count": 12,
   "metadata": {},
   "outputs": [],
   "source": [
    "# import matplotlib.pyplot as plt\n",
    "# df.hist(bins=100, figsize=(20,15))\n",
    "# plt.show() #optional in Jupyter"
   ]
  },
  {
   "cell_type": "markdown",
   "metadata": {},
   "source": [
    "# Prepare the data for Machine Learning algorithms"
   ]
  },
  {
   "cell_type": "code",
   "execution_count": 13,
   "metadata": {},
   "outputs": [],
   "source": [
    "np.random.seed(123)"
   ]
  },
  {
   "cell_type": "code",
   "execution_count": 14,
   "metadata": {},
   "outputs": [
    {
     "name": "stdout",
     "output_type": "stream",
     "text": [
      "train set shape: (24000, 25)\n",
      "test set shape: (6000, 25)\n"
     ]
    }
   ],
   "source": [
    "from sklearn.model_selection import train_test_split\n",
    "df_train,df_test = train_test_split(df,test_size=0.2, random_state=42)\n",
    "print(\"train set shape:\", df_train.shape)\n",
    "print(\"test set shape:\", df_test.shape)"
   ]
  },
  {
   "cell_type": "code",
   "execution_count": 15,
   "metadata": {},
   "outputs": [
    {
     "data": {
      "text/html": [
       "<div>\n",
       "<style scoped>\n",
       "    .dataframe tbody tr th:only-of-type {\n",
       "        vertical-align: middle;\n",
       "    }\n",
       "\n",
       "    .dataframe tbody tr th {\n",
       "        vertical-align: top;\n",
       "    }\n",
       "\n",
       "    .dataframe thead th {\n",
       "        text-align: right;\n",
       "    }\n",
       "</style>\n",
       "<table border=\"1\" class=\"dataframe\">\n",
       "  <thead>\n",
       "    <tr style=\"text-align: right;\">\n",
       "      <th></th>\n",
       "      <th>ID</th>\n",
       "      <th>LIMIT_BAL</th>\n",
       "      <th>SEX</th>\n",
       "      <th>EDUCATION</th>\n",
       "      <th>MARRIAGE</th>\n",
       "      <th>AGE</th>\n",
       "      <th>PAY_0</th>\n",
       "      <th>PAY_2</th>\n",
       "      <th>PAY_3</th>\n",
       "      <th>PAY_4</th>\n",
       "      <th>...</th>\n",
       "      <th>BILL_AMT3</th>\n",
       "      <th>BILL_AMT4</th>\n",
       "      <th>BILL_AMT5</th>\n",
       "      <th>BILL_AMT6</th>\n",
       "      <th>PAY_AMT1</th>\n",
       "      <th>PAY_AMT2</th>\n",
       "      <th>PAY_AMT3</th>\n",
       "      <th>PAY_AMT4</th>\n",
       "      <th>PAY_AMT5</th>\n",
       "      <th>PAY_AMT6</th>\n",
       "    </tr>\n",
       "  </thead>\n",
       "  <tbody>\n",
       "    <tr>\n",
       "      <td>21753</td>\n",
       "      <td>21754</td>\n",
       "      <td>80000</td>\n",
       "      <td>2</td>\n",
       "      <td>2</td>\n",
       "      <td>2</td>\n",
       "      <td>24</td>\n",
       "      <td>0</td>\n",
       "      <td>0</td>\n",
       "      <td>0</td>\n",
       "      <td>0</td>\n",
       "      <td>...</td>\n",
       "      <td>78321</td>\n",
       "      <td>73731</td>\n",
       "      <td>39643</td>\n",
       "      <td>39457</td>\n",
       "      <td>3503</td>\n",
       "      <td>5001</td>\n",
       "      <td>2092</td>\n",
       "      <td>1218</td>\n",
       "      <td>1445</td>\n",
       "      <td>878</td>\n",
       "    </tr>\n",
       "    <tr>\n",
       "      <td>251</td>\n",
       "      <td>252</td>\n",
       "      <td>30000</td>\n",
       "      <td>1</td>\n",
       "      <td>2</td>\n",
       "      <td>2</td>\n",
       "      <td>28</td>\n",
       "      <td>0</td>\n",
       "      <td>0</td>\n",
       "      <td>0</td>\n",
       "      <td>0</td>\n",
       "      <td>...</td>\n",
       "      <td>29155</td>\n",
       "      <td>25255</td>\n",
       "      <td>22001</td>\n",
       "      <td>0</td>\n",
       "      <td>5006</td>\n",
       "      <td>1244</td>\n",
       "      <td>851</td>\n",
       "      <td>955</td>\n",
       "      <td>0</td>\n",
       "      <td>0</td>\n",
       "    </tr>\n",
       "    <tr>\n",
       "      <td>22941</td>\n",
       "      <td>22942</td>\n",
       "      <td>180000</td>\n",
       "      <td>2</td>\n",
       "      <td>5</td>\n",
       "      <td>1</td>\n",
       "      <td>44</td>\n",
       "      <td>0</td>\n",
       "      <td>0</td>\n",
       "      <td>-1</td>\n",
       "      <td>-1</td>\n",
       "      <td>...</td>\n",
       "      <td>850</td>\n",
       "      <td>0</td>\n",
       "      <td>6881</td>\n",
       "      <td>10340</td>\n",
       "      <td>0</td>\n",
       "      <td>850</td>\n",
       "      <td>0</td>\n",
       "      <td>6881</td>\n",
       "      <td>10340</td>\n",
       "      <td>182</td>\n",
       "    </tr>\n",
       "    <tr>\n",
       "      <td>618</td>\n",
       "      <td>619</td>\n",
       "      <td>60000</td>\n",
       "      <td>1</td>\n",
       "      <td>1</td>\n",
       "      <td>2</td>\n",
       "      <td>25</td>\n",
       "      <td>0</td>\n",
       "      <td>0</td>\n",
       "      <td>0</td>\n",
       "      <td>0</td>\n",
       "      <td>...</td>\n",
       "      <td>38533</td>\n",
       "      <td>39639</td>\n",
       "      <td>39619</td>\n",
       "      <td>39140</td>\n",
       "      <td>2018</td>\n",
       "      <td>1900</td>\n",
       "      <td>2000</td>\n",
       "      <td>1500</td>\n",
       "      <td>1900</td>\n",
       "      <td>2000</td>\n",
       "    </tr>\n",
       "    <tr>\n",
       "      <td>17090</td>\n",
       "      <td>17091</td>\n",
       "      <td>130000</td>\n",
       "      <td>2</td>\n",
       "      <td>2</td>\n",
       "      <td>2</td>\n",
       "      <td>25</td>\n",
       "      <td>0</td>\n",
       "      <td>0</td>\n",
       "      <td>0</td>\n",
       "      <td>0</td>\n",
       "      <td>...</td>\n",
       "      <td>114734</td>\n",
       "      <td>117823</td>\n",
       "      <td>120854</td>\n",
       "      <td>123904</td>\n",
       "      <td>4100</td>\n",
       "      <td>4200</td>\n",
       "      <td>5000</td>\n",
       "      <td>5000</td>\n",
       "      <td>5000</td>\n",
       "      <td>10700</td>\n",
       "    </tr>\n",
       "  </tbody>\n",
       "</table>\n",
       "<p>5 rows × 24 columns</p>\n",
       "</div>"
      ],
      "text/plain": [
       "          ID  LIMIT_BAL  SEX  EDUCATION  MARRIAGE  AGE  PAY_0  PAY_2  PAY_3  \\\n",
       "21753  21754      80000    2          2         2   24      0      0      0   \n",
       "251      252      30000    1          2         2   28      0      0      0   \n",
       "22941  22942     180000    2          5         1   44      0      0     -1   \n",
       "618      619      60000    1          1         2   25      0      0      0   \n",
       "17090  17091     130000    2          2         2   25      0      0      0   \n",
       "\n",
       "       PAY_4  ...  BILL_AMT3  BILL_AMT4  BILL_AMT5  BILL_AMT6  PAY_AMT1  \\\n",
       "21753      0  ...      78321      73731      39643      39457      3503   \n",
       "251        0  ...      29155      25255      22001          0      5006   \n",
       "22941     -1  ...        850          0       6881      10340         0   \n",
       "618        0  ...      38533      39639      39619      39140      2018   \n",
       "17090      0  ...     114734     117823     120854     123904      4100   \n",
       "\n",
       "       PAY_AMT2  PAY_AMT3  PAY_AMT4  PAY_AMT5  PAY_AMT6  \n",
       "21753      5001      2092      1218      1445       878  \n",
       "251        1244       851       955         0         0  \n",
       "22941       850         0      6881     10340       182  \n",
       "618        1900      2000      1500      1900      2000  \n",
       "17090      4200      5000      5000      5000     10700  \n",
       "\n",
       "[5 rows x 24 columns]"
      ]
     },
     "execution_count": 15,
     "metadata": {},
     "output_type": "execute_result"
    }
   ],
   "source": [
    "default = df_train.drop(\"default payment next month\", axis=1) # drop labels for training set\n",
    "default_labels = df_train[\"default payment next month\"].copy()\n",
    "default.head()"
   ]
  },
  {
   "cell_type": "code",
   "execution_count": 16,
   "metadata": {},
   "outputs": [
    {
     "name": "stdout",
     "output_type": "stream",
     "text": [
      "[[     1  20000      2 ...      0      0      1]\n",
      " [     2 120000      2 ...      0   2000      1]\n",
      " [     3  90000      2 ...   1000   5000      0]\n",
      " ...\n",
      " [ 29998  30000      1 ...   2000   3100      1]\n",
      " [ 29999  80000      1 ...  52964   1804      1]\n",
      " [ 30000  50000      1 ...   1000   1000      1]]\n"
     ]
    },
    {
     "data": {
      "text/plain": [
       "array([-2,  3,  0, ...,  8, -1,  0])"
      ]
     },
     "execution_count": 16,
     "metadata": {},
     "output_type": "execute_result"
    }
   ],
   "source": [
    "# default['total_PAY'] = df.apply(lambda row: row.PAY_0 + row.PAY_2 + row.PAY_3 + row.PAY_4 + row.PAY_5, axis=1)\n",
    "# df\n",
    "X = df.values\n",
    "print(X)\n",
    "np.sum(X[:,6:12],axis = 1)"
   ]
  },
  {
   "cell_type": "code",
   "execution_count": 17,
   "metadata": {},
   "outputs": [
    {
     "data": {
      "text/plain": [
       "array([[  21754,   80000,       2, ...,      24,       0, -369493],\n",
       "       [    252,   30000,       1, ...,      28,       0, -127104],\n",
       "       [  22942,  180000,       2, ...,      44,      -4,  -20734],\n",
       "       ...,\n",
       "       [    861,   50000,       1, ...,      26,     -12,       0],\n",
       "       [  15796,   70000,       2, ...,      25,       4, -275473],\n",
       "       [  23655,  160000,       2, ...,      36,     -12,    1878]])"
      ]
     },
     "execution_count": 17,
     "metadata": {},
     "output_type": "execute_result"
    }
   ],
   "source": [
    "from sklearn.base import BaseEstimator,TransformerMixin\n",
    "\n",
    "# column index\n",
    "PAY_0, PAY_2, PAY_3, PAY_4, PAY_5, PAY_6 = 6,7,8,9,10 ,11\n",
    "BILL_ATM_1, BILL_ATM_2, BILL_ATM_3, BILL_ATM_4, BILL_ATM_5, BILL_ATM_6 = 12,13,14,15,16,17\n",
    "PAY_ATM_1, PAY_ATM_2, PAY_ATM_3, PAY_ATM_4, PAY_ATM_5, PAY_ATM_6  = 18,19,20,21,22,23\n",
    "\n",
    "class CombinedAttributesAdder(BaseEstimator, TransformerMixin):\n",
    "    def __init__(self, sum_the_pays = True): # no *args or **kargs\n",
    "        self.sum_the_pays = sum_the_pays\n",
    "    def fit(self, X, y=None):\n",
    "        return self  # nothing else to do\n",
    "    def transform(self, X, y=None):\n",
    "        if self.sum_the_pays:\n",
    "            pay_sum = np.sum(X[:,6:12],axis =1)\n",
    "            bill_atm_sum = np.sum(X[:,12:18],axis =1)\n",
    "            pay_atm_sum = np.sum(X[:,18:24],axis =1)\n",
    "            X_clean = np.delete(X, np.arange(6,24), axis = 1)\n",
    "            return np.c_[X_clean, pay_sum, pay_atm_sum - bill_atm_sum]\n",
    "        else:\n",
    "            return X\n",
    "\n",
    "attr_adder = CombinedAttributesAdder()\n",
    "default_extra_attribs = attr_adder.fit_transform(default.values)\n",
    "default_extra_attribs"
   ]
  },
  {
   "cell_type": "code",
   "execution_count": 18,
   "metadata": {},
   "outputs": [
    {
     "data": {
      "text/plain": [
       "(24000, 24)"
      ]
     },
     "execution_count": 18,
     "metadata": {},
     "output_type": "execute_result"
    }
   ],
   "source": [
    "# define a class/transformer to change panda file to np arrays\n",
    "\n",
    "\n",
    "class Panda_to_np(BaseEstimator, TransformerMixin):\n",
    "    def __init__(self,do_transform = True): # no *args or **kargs\n",
    "        self.do_transform = do_transform\n",
    "    def fit(self, X, y=None):\n",
    "        return self  # nothing else to do\n",
    "    def transform(self, X, y=None):\n",
    "        return X.values\n",
    "\n",
    "attr_adder = Panda_to_np()\n",
    "default_np = attr_adder.fit_transform(default)\n",
    "default_np.shape"
   ]
  },
  {
   "cell_type": "code",
   "execution_count": 19,
   "metadata": {},
   "outputs": [
    {
     "data": {
      "text/plain": [
       "array([[0.72514834, 0.07070707, 1.        , ..., 0.05172414, 0.25      ,\n",
       "        0.55197571],\n",
       "       [0.00836722, 0.02020202, 0.        , ..., 0.12068966, 0.25      ,\n",
       "        0.5876863 ],\n",
       "       [0.76475098, 0.17171717, 1.        , ..., 0.39655172, 0.16666667,\n",
       "        0.60335754],\n",
       "       ...,\n",
       "       [0.02866858, 0.04040404, 0.        , ..., 0.0862069 , 0.        ,\n",
       "        0.60641223],\n",
       "       [0.5265351 , 0.06060606, 1.        , ..., 0.06896552, 0.33333333,\n",
       "        0.56582745],\n",
       "       [0.78851923, 0.15151515, 1.        , ..., 0.25862069, 0.        ,\n",
       "        0.60668891]])"
      ]
     },
     "execution_count": 19,
     "metadata": {},
     "output_type": "execute_result"
    }
   ],
   "source": [
    "from sklearn.impute import SimpleImputer\n",
    "imputer = SimpleImputer(strategy=\"median\")\n",
    "\n",
    "from sklearn.pipeline import Pipeline\n",
    "from sklearn.preprocessing import StandardScaler\n",
    "from sklearn.preprocessing import MinMaxScaler\n",
    "\n",
    "num_pipeline = Pipeline([\n",
    "#         ('imputer', SimpleImputer(strategy=\"median\")), #impute\n",
    "        ('pd_to_np', Panda_to_np()), #transform panda file to np\n",
    "        ('attribs_adder', CombinedAttributesAdder()), \n",
    "    #then add attributes, since calculate add bedroom per room by default ==> results in a 11 columns array in the end\n",
    "        ('minmax_scaler', MinMaxScaler(feature_range=(0, 1))), # then normalize\n",
    "    ])\n",
    "\n",
    "default_tr = num_pipeline.fit_transform(default) #transform housing_num daata frame to an np array\n",
    "default_tr"
   ]
  },
  {
   "cell_type": "code",
   "execution_count": 20,
   "metadata": {},
   "outputs": [
    {
     "data": {
      "text/plain": [
       "array([False, False, False, ..., False,  True,  True])"
      ]
     },
     "execution_count": 20,
     "metadata": {},
     "output_type": "execute_result"
    }
   ],
   "source": [
    "import numpy.ma as ma\n",
    "\n",
    "default_trian_label = ma.make_mask(default_labels.values)\n",
    "default_trian_label"
   ]
  },
  {
   "cell_type": "markdown",
   "metadata": {},
   "source": [
    "# Implement KNN regression"
   ]
  },
  {
   "cell_type": "code",
   "execution_count": 21,
   "metadata": {},
   "outputs": [
    {
     "data": {
      "text/plain": [
       "KNeighborsClassifier(algorithm='auto', leaf_size=30, metric='minkowski',\n",
       "                     metric_params=None, n_jobs=None, n_neighbors=40, p=2,\n",
       "                     weights='uniform')"
      ]
     },
     "execution_count": 21,
     "metadata": {},
     "output_type": "execute_result"
    }
   ],
   "source": [
    "from sklearn.neighbors import KNeighborsClassifier\n",
    "from sklearn.linear_model import SGDClassifier\n",
    "\n",
    "# Add tol argument to prevent warnings\n",
    "# sgd_clf = SGDClassifier(max_iter=1000, random_state=42, loss='hinge')\n",
    "KNN_clf = KNeighborsClassifier(n_neighbors = 40)\n",
    "KNN_clf.fit(default_tr, default_trian_label)"
   ]
  },
  {
   "cell_type": "code",
   "execution_count": 22,
   "metadata": {},
   "outputs": [
    {
     "data": {
      "text/plain": [
       "array([0.79462612, 0.80358259, 0.79770833, 0.79995832, 0.79704105])"
      ]
     },
     "execution_count": 22,
     "metadata": {},
     "output_type": "execute_result"
    }
   ],
   "source": [
    "from sklearn.model_selection import cross_val_score\n",
    "cross_val_score(KNN_clf, default_tr, default_trian_label, cv=5, scoring=\"accuracy\")"
   ]
  },
  {
   "cell_type": "code",
   "execution_count": 23,
   "metadata": {},
   "outputs": [],
   "source": [
    "from sklearn.model_selection import cross_val_predict\n",
    "from sklearn.metrics import roc_curve\n",
    "KNN_y_scores = cross_val_predict(KNN_clf, default_tr, default_trian_label, cv=5, method=\"predict_proba\")\n",
    "\n",
    "# roc_curve expects true labels (classes) and predicted scores (decision_function)\n",
    "fpr, tpr, thresholds = roc_curve(default_trian_label, KNN_y_scores[:,1])"
   ]
  },
  {
   "cell_type": "code",
   "execution_count": 24,
   "metadata": {},
   "outputs": [
    {
     "data": {
      "image/png": "[encoded data removed]",
      "text/plain": [
       "<Figure size 576x432 with 1 Axes>"
      ]
     },
     "metadata": {
      "needs_background": "light"
     },
     "output_type": "display_data"
    }
   ],
   "source": [
    "def plot_roc_curve(fpr, tpr, label=None):\n",
    "    plt.plot(fpr, tpr, linewidth=2, label=label)\n",
    "    plt.plot([0, 1], [0, 1], 'k--')\n",
    "    plt.axis([0, 1, 0, 1])\n",
    "    plt.xlabel('False Positive Rate', fontsize=16)\n",
    "    plt.ylabel('True Positive Rate (Recall)', fontsize=16)\n",
    "\n",
    "plt.figure(figsize=(8, 6))\n",
    "plot_roc_curve(fpr, tpr)\n",
    "# save_fig(\"roc_curve_plot\")\n",
    "plt.show()"
   ]
  },
  {
   "cell_type": "code",
   "execution_count": 29,
   "metadata": {},
   "outputs": [],
   "source": [
    "from sklearn.ensemble import RandomForestClassifier\n",
    "forest_clf = RandomForestClassifier(n_estimators=100, random_state=123,class_weight = \"balanced\")\n",
    "forest_clf.fit(default_tr, default_trian_label)\n",
    "\n",
    "forest_y_scores = cross_val_predict(forest_clf, default_tr, default_trian_label, cv=5, method=\"predict_proba\")\n",
    "\n",
    "# roc_curve expects true labels (classes) and predicted scores (decision_function)\n",
    "fpr2, tpr2, thresholds2 = roc_curve(default_trian_label, forest_y_scores[:,1])"
   ]
  },
  {
   "cell_type": "code",
   "execution_count": 30,
   "metadata": {},
   "outputs": [],
   "source": [
    "# ?RandomForestClassifier"
   ]
  },
  {
   "cell_type": "code",
   "execution_count": 31,
   "metadata": {},
   "outputs": [],
   "source": [
    "# from sklearn.ensemble import RandomForestClassifier\n",
    "# forest_clf = RandomForestClassifier(n_estimators=10, random_state=42)\n",
    "# y_probas_forest = cross_val_predict(forest_clf, X_train, y_train_5, cv=3,\n",
    "#                                     method=\"predict_proba\")"
   ]
  },
  {
   "cell_type": "code",
   "execution_count": 32,
   "metadata": {},
   "outputs": [
    {
     "data": {
      "image/png": "[encoded data removed]",
      "text/plain": [
       "<Figure size 576x432 with 1 Axes>"
      ]
     },
     "metadata": {
      "needs_background": "light"
     },
     "output_type": "display_data"
    }
   ],
   "source": [
    "plt.figure(figsize=(8, 6))\n",
    "plot_roc_curve(fpr, tpr)\n",
    "plot_roc_curve(fpr2, tpr2)\n",
    "# save_fig(\"roc_curve_plot\")\n",
    "plt.show()"
   ]
  },
  {
   "cell_type": "code",
   "execution_count": 33,
   "metadata": {},
   "outputs": [],
   "source": [
    "from sklearn.metrics import precision_recall_curve\n",
    "KNN_precisions, KNN_recalls, KNN_thresholds = precision_recall_curve(default_trian_label, KNN_y_scores[:,1])\n",
    "forest_precisions, forest_recalls, forest_thresholds = precision_recall_curve(default_trian_label, forest_y_scores[:,1]) # USE POSITIVE CLASS"
   ]
  },
  {
   "cell_type": "code",
   "execution_count": 34,
   "metadata": {},
   "outputs": [
    {
     "data": {
      "image/png": "[encoded data removed]",
      "text/plain": [
       "<Figure size 576x288 with 1 Axes>"
      ]
     },
     "metadata": {
      "needs_background": "light"
     },
     "output_type": "display_data"
    }
   ],
   "source": [
    "def plot_precision_recall_vs_threshold(precisions, recalls, thresholds, vl=0):\n",
    "    plt.plot(thresholds, precisions[:-1], \"b--\", label=\"Precision\", linewidth=2)\n",
    "    plt.plot(thresholds, recalls[:-1], \"g-\", label=\"Recall\", linewidth=2)\n",
    "    plt.xlabel(\"Threshold\", fontsize=16)\n",
    "    plt.axvline(vl, c='r')\n",
    "    plt.legend(loc=\"upper left\", fontsize=16)\n",
    "    plt.ylim([0, 1])\n",
    "\n",
    "plt.figure(figsize=(8, 4))\n",
    "plot_precision_recall_vs_threshold(KNN_precisions, KNN_recalls, KNN_thresholds, vl = 0.5)\n",
    "# plt.xlim([-200000, 200000])\n",
    "# save_fig(\"precision_recall_vs_threshold_plot\")\n",
    "plt.show()"
   ]
  },
  {
   "cell_type": "code",
   "execution_count": 35,
   "metadata": {},
   "outputs": [
    {
     "data": {
      "image/png": "[encoded data removed]",
      "text/plain": [
       "<Figure size 576x288 with 1 Axes>"
      ]
     },
     "metadata": {
      "needs_background": "light"
     },
     "output_type": "display_data"
    }
   ],
   "source": [
    "\n",
    "\n",
    "plt.figure(figsize=(8, 4))\n",
    "plot_precision_recall_vs_threshold(forest_precisions, forest_recalls, forest_thresholds, vl = 0.5)\n",
    "# plt.xlim([-200000, 200000])\n",
    "# save_fig(\"precision_recall_vs_threshold_plot\")\n",
    "plt.show()"
   ]
  },
  {
   "cell_type": "code",
   "execution_count": 38,
   "metadata": {},
   "outputs": [
    {
     "name": "stdout",
     "output_type": "stream",
     "text": [
      "0.09\n",
      "0.2786719122556032\n",
      "0.8782641367649822\n"
     ]
    }
   ],
   "source": [
    "from sklearn.metrics import precision_score, recall_score, f1_score\n",
    "threshold_85_recall = forest_thresholds[np.argmax(forest_recalls<=0.9)]\n",
    "threshold_85_recall\n",
    "# df_train_pred_75_recall = (_scores > threshold_90_precision)\n",
    "# df_train_pred_forest = cross_val_predict(forest_clf, )\n",
    "pscore = precision_score(default_trian_label, (forest_y_scores[:,1]>threshold_85_recall))\n",
    "rscore = recall_score(default_trian_label, (forest_y_scores[:,1]>threshold_85_recall))\n",
    "print(threshold_85_recall)\n",
    "print(pscore)\n",
    "print(rscore)\n"
   ]
  },
  {
   "cell_type": "markdown",
   "metadata": {},
   "source": [
    "# Use test set"
   ]
  },
  {
   "cell_type": "code",
   "execution_count": 39,
   "metadata": {},
   "outputs": [
    {
     "data": {
      "text/plain": [
       "array([False, False, False, ..., False, False, False])"
      ]
     },
     "execution_count": 39,
     "metadata": {},
     "output_type": "execute_result"
    }
   ],
   "source": [
    "X_test = df_test.drop(\"default payment next month\", axis=1)\n",
    "y_test = df_test[\"default payment next month\"].copy()\n",
    "X_test_prepared = num_pipeline.transform(X_test)\n",
    "y_test_prepared = ma.make_mask(y_test.values)\n",
    "y_test_prepared"
   ]
  },
  {
   "cell_type": "code",
   "execution_count": 41,
   "metadata": {},
   "outputs": [
    {
     "name": "stdout",
     "output_type": "stream",
     "text": [
      "0.2678082191780822\n",
      "0.8933739527798934\n"
     ]
    }
   ],
   "source": [
    "y_proba = forest_clf.predict_proba(X_test_prepared)\n",
    "y_proba \n",
    "# Accuracy of positive predictions\n",
    "print(precision_score(y_test_prepared, (y_proba[:,1]>=threshold_85_recall)))\n",
    "\n",
    "# True positive rate (share of true positives correctly identified)\n",
    "print(recall_score(y_test_prepared, (y_proba[:,1]>=threshold_85_recall)))"
   ]
  },
  {
   "cell_type": "markdown",
   "metadata": {},
   "source": [
    "#### Conclusions?"
   ]
  },
  {
   "cell_type": "code",
   "execution_count": 163,
   "metadata": {},
   "outputs": [
    {
     "name": "stdout",
     "output_type": "stream",
     "text": [
      "6\n",
      "7\n",
      "8\n",
      "9\n",
      "10\n",
      "11\n",
      "12\n",
      "13\n",
      "14\n",
      "15\n",
      "16\n",
      "17\n",
      "18\n",
      "19\n",
      "20\n"
     ]
    }
   ],
   "source": [
    "for i in range (6,21):\n",
    "   print(i) \n",
    "    "
   ]
  },
  {
   "cell_type": "markdown",
   "metadata": {},
   "source": [
    "Explain your results and choices"
   ]
  },
  {
   "cell_type": "code",
   "execution_count": null,
   "metadata": {
    "collapsed": true,
    "jupyter": {
     "outputs_hidden": true
    }
   },
   "outputs": [],
   "source": []
  },
  {
   "cell_type": "markdown",
   "metadata": {},
   "source": [
    "Q2. (Optional) Write a function that can shift an MNIST image in any direction (left, right, up, or down) by one pixel. Then, for each image in the training set, create four shifted copies (one per direction) and add them to the training set. Finally, train your best model on this expanded training set and measure its accuracy on the test set. You should observe that your model performs even better now! This technique of artificially growing the training set is called data augmentation or training set expansion. "
   ]
  },
  {
   "cell_type": "markdown",
   "metadata": {},
   "source": [
    "### Conclusions\n"
   ]
  },
  {
   "cell_type": "code",
   "execution_count": null,
   "metadata": {
    "collapsed": true,
    "jupyter": {
     "outputs_hidden": true
    }
   },
   "outputs": [],
   "source": []
  },
  {
   "cell_type": "markdown",
   "metadata": {},
   "source": [
    "### Submit your notebook\n",
    "\n",
    "Submit your solution here\n",
    "https://goo.gl/forms/VKD7Zwu54oHjutDc2\n",
    "Make sure you rename your notebook to    \n",
    "W3_UTORid.ipynb    \n",
    "Example W3_adfasd01.ipynb\n"
   ]
  },
  {
   "cell_type": "code",
   "execution_count": null,
   "metadata": {
    "collapsed": true,
    "jupyter": {
     "outputs_hidden": true
    }
   },
   "outputs": [],
   "source": []
  }
 ],
 "metadata": {
  "anaconda-cloud": {},
  "kernelspec": {
   "display_name": "Python 3",
   "language": "python",
   "name": "python3"
  },
  "language_info": {
   "codemirror_mode": {
    "name": "ipython",
    "version": 3
   },
   "file_extension": ".py",
   "mimetype": "text/x-python",
   "name": "python",
   "nbconvert_exporter": "python",
   "pygments_lexer": "ipython3",
   "version": "3.7.4"
  }
 },
 "nbformat": 4,
 "nbformat_minor": 4
}
