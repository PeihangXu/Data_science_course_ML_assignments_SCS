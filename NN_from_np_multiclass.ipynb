{
 "cells": [
  {
   "cell_type": "markdown",
   "metadata": {},
   "source": [
    "## Setup"
   ]
  },
  {
   "cell_type": "code",
   "execution_count": 1,
   "metadata": {},
   "outputs": [],
   "source": [
    "import numpy as np\n",
    "import matplotlib.pyplot as plt"
   ]
  },
  {
   "cell_type": "code",
   "execution_count": 2,
   "metadata": {},
   "outputs": [
    {
     "name": "stdout",
     "output_type": "stream",
     "text": [
      "X_train: (150, 4)\n",
      "y_train: (150, 1)\n",
      "Classes: [0 1 2]\n"
     ]
    }
   ],
   "source": [
    "from sklearn.datasets import load_iris\n",
    "from sklearn.preprocessing import StandardScaler\n",
    "import numpy as np\n",
    "\n",
    "# First lets load some data to run through our model\n",
    "iris = load_iris()\n",
    "X_train = iris['data']\n",
    "y_train = iris['target'].reshape(-1,1)\n",
    "\n",
    "\n",
    "scaler = StandardScaler()\n",
    "X_train = scaler.fit_transform(X_train)\n",
    "\n",
    "print(\"X_train:\", X_train.shape)\n",
    "print(\"y_train:\", y_train.shape)\n",
    "print(\"Classes:\", np.unique(y_train))\n",
    "y_train_original = y_train"
   ]
  },
  {
   "cell_type": "code",
   "execution_count": 3,
   "metadata": {},
   "outputs": [],
   "source": [
    "def Y_transform(Y):\n",
    "    m = Y.shape[0]\n",
    "    Y_unique = np.unique(Y)\n",
    "    Y_trans = []\n",
    "    for i in range(0,3):\n",
    "        yarray = np.multiply(Y==Y_unique[i],np.ones((m,1)))\n",
    "        Y_trans.append(yarray.reshape(-1))\n",
    "    Y_transform =  np.array(Y_trans).T\n",
    "    return Y_transform"
   ]
  },
  {
   "cell_type": "code",
   "execution_count": 4,
   "metadata": {},
   "outputs": [
    {
     "data": {
      "text/plain": [
       "(150, 3)"
      ]
     },
     "execution_count": 4,
     "metadata": {},
     "output_type": "execute_result"
    }
   ],
   "source": [
    "y_train = Y_transform(y_train)\n",
    "y_train.shape"
   ]
  },
  {
   "cell_type": "code",
   "execution_count": 5,
   "metadata": {},
   "outputs": [
    {
     "data": {
      "text/plain": [
       "array([[1., 0., 0.],\n",
       "       [1., 0., 0.],\n",
       "       [1., 0., 0.],\n",
       "       [1., 0., 0.],\n",
       "       [1., 0., 0.],\n",
       "       [1., 0., 0.],\n",
       "       [1., 0., 0.],\n",
       "       [1., 0., 0.],\n",
       "       [1., 0., 0.],\n",
       "       [1., 0., 0.],\n",
       "       [1., 0., 0.],\n",
       "       [1., 0., 0.],\n",
       "       [1., 0., 0.],\n",
       "       [1., 0., 0.],\n",
       "       [1., 0., 0.],\n",
       "       [1., 0., 0.],\n",
       "       [1., 0., 0.],\n",
       "       [1., 0., 0.],\n",
       "       [1., 0., 0.],\n",
       "       [1., 0., 0.],\n",
       "       [1., 0., 0.],\n",
       "       [1., 0., 0.],\n",
       "       [1., 0., 0.],\n",
       "       [1., 0., 0.],\n",
       "       [1., 0., 0.],\n",
       "       [1., 0., 0.],\n",
       "       [1., 0., 0.],\n",
       "       [1., 0., 0.],\n",
       "       [1., 0., 0.],\n",
       "       [1., 0., 0.],\n",
       "       [1., 0., 0.],\n",
       "       [1., 0., 0.],\n",
       "       [1., 0., 0.],\n",
       "       [1., 0., 0.],\n",
       "       [1., 0., 0.],\n",
       "       [1., 0., 0.],\n",
       "       [1., 0., 0.],\n",
       "       [1., 0., 0.],\n",
       "       [1., 0., 0.],\n",
       "       [1., 0., 0.],\n",
       "       [1., 0., 0.],\n",
       "       [1., 0., 0.],\n",
       "       [1., 0., 0.],\n",
       "       [1., 0., 0.],\n",
       "       [1., 0., 0.],\n",
       "       [1., 0., 0.],\n",
       "       [1., 0., 0.],\n",
       "       [1., 0., 0.],\n",
       "       [1., 0., 0.],\n",
       "       [1., 0., 0.],\n",
       "       [0., 1., 0.],\n",
       "       [0., 1., 0.],\n",
       "       [0., 1., 0.],\n",
       "       [0., 1., 0.],\n",
       "       [0., 1., 0.],\n",
       "       [0., 1., 0.],\n",
       "       [0., 1., 0.],\n",
       "       [0., 1., 0.],\n",
       "       [0., 1., 0.],\n",
       "       [0., 1., 0.],\n",
       "       [0., 1., 0.],\n",
       "       [0., 1., 0.],\n",
       "       [0., 1., 0.],\n",
       "       [0., 1., 0.],\n",
       "       [0., 1., 0.],\n",
       "       [0., 1., 0.],\n",
       "       [0., 1., 0.],\n",
       "       [0., 1., 0.],\n",
       "       [0., 1., 0.],\n",
       "       [0., 1., 0.],\n",
       "       [0., 1., 0.],\n",
       "       [0., 1., 0.],\n",
       "       [0., 1., 0.],\n",
       "       [0., 1., 0.],\n",
       "       [0., 1., 0.],\n",
       "       [0., 1., 0.],\n",
       "       [0., 1., 0.],\n",
       "       [0., 1., 0.],\n",
       "       [0., 1., 0.],\n",
       "       [0., 1., 0.],\n",
       "       [0., 1., 0.],\n",
       "       [0., 1., 0.],\n",
       "       [0., 1., 0.],\n",
       "       [0., 1., 0.],\n",
       "       [0., 1., 0.],\n",
       "       [0., 1., 0.],\n",
       "       [0., 1., 0.],\n",
       "       [0., 1., 0.],\n",
       "       [0., 1., 0.],\n",
       "       [0., 1., 0.],\n",
       "       [0., 1., 0.],\n",
       "       [0., 1., 0.],\n",
       "       [0., 1., 0.],\n",
       "       [0., 1., 0.],\n",
       "       [0., 1., 0.],\n",
       "       [0., 1., 0.],\n",
       "       [0., 1., 0.],\n",
       "       [0., 1., 0.],\n",
       "       [0., 1., 0.],\n",
       "       [0., 1., 0.],\n",
       "       [0., 0., 1.],\n",
       "       [0., 0., 1.],\n",
       "       [0., 0., 1.],\n",
       "       [0., 0., 1.],\n",
       "       [0., 0., 1.],\n",
       "       [0., 0., 1.],\n",
       "       [0., 0., 1.],\n",
       "       [0., 0., 1.],\n",
       "       [0., 0., 1.],\n",
       "       [0., 0., 1.],\n",
       "       [0., 0., 1.],\n",
       "       [0., 0., 1.],\n",
       "       [0., 0., 1.],\n",
       "       [0., 0., 1.],\n",
       "       [0., 0., 1.],\n",
       "       [0., 0., 1.],\n",
       "       [0., 0., 1.],\n",
       "       [0., 0., 1.],\n",
       "       [0., 0., 1.],\n",
       "       [0., 0., 1.],\n",
       "       [0., 0., 1.],\n",
       "       [0., 0., 1.],\n",
       "       [0., 0., 1.],\n",
       "       [0., 0., 1.],\n",
       "       [0., 0., 1.],\n",
       "       [0., 0., 1.],\n",
       "       [0., 0., 1.],\n",
       "       [0., 0., 1.],\n",
       "       [0., 0., 1.],\n",
       "       [0., 0., 1.],\n",
       "       [0., 0., 1.],\n",
       "       [0., 0., 1.],\n",
       "       [0., 0., 1.],\n",
       "       [0., 0., 1.],\n",
       "       [0., 0., 1.],\n",
       "       [0., 0., 1.],\n",
       "       [0., 0., 1.],\n",
       "       [0., 0., 1.],\n",
       "       [0., 0., 1.],\n",
       "       [0., 0., 1.],\n",
       "       [0., 0., 1.],\n",
       "       [0., 0., 1.],\n",
       "       [0., 0., 1.],\n",
       "       [0., 0., 1.],\n",
       "       [0., 0., 1.],\n",
       "       [0., 0., 1.],\n",
       "       [0., 0., 1.],\n",
       "       [0., 0., 1.],\n",
       "       [0., 0., 1.],\n",
       "       [0., 0., 1.]])"
      ]
     },
     "execution_count": 5,
     "metadata": {},
     "output_type": "execute_result"
    }
   ],
   "source": [
    "y_train"
   ]
  },
  {
   "cell_type": "markdown",
   "metadata": {},
   "source": [
    "## Inistialize parameters"
   ]
  },
  {
   "cell_type": "code",
   "execution_count": 6,
   "metadata": {},
   "outputs": [],
   "source": [
    "def init_params(n_inputs, hidden_dims, output_dims=1, init_scale=0.05):\n",
    "    \"\"\"\n",
    "    Dynamically generate randomly initialized parameters for model based on user inputs.\n",
    "    Arguments:\n",
    "        n_inputs (int): number of inputs features\n",
    "        hidden_dims (list): number of neurons (integers) in each hidden layer\n",
    "        output_dims (int): number of output neurons in layer L\n",
    "        init_scale (float): scaling factor for random initialization \n",
    "    Returns:\n",
    "        parameters (dictionary): a dictionary of weight and bias parameters for each layer.\n",
    "    \"\"\"\n",
    "    layer_dims = [n_inputs]+hidden_dims+[output_dims]\n",
    "    L = len(layer_dims)\n",
    "    \n",
    "    parameters = {}\n",
    "    for l in range(1,L):\n",
    "        parameters['W'+str(l)] = np.random.randn(layer_dims[l-1],layer_dims[l])*init_scale\n",
    "        parameters['b'+str(l)] = np.zeros((1,layer_dims[l]))\n",
    "    \n",
    "    return parameters\n",
    "    "
   ]
  },
  {
   "cell_type": "code",
   "execution_count": 7,
   "metadata": {},
   "outputs": [
    {
     "name": "stdout",
     "output_type": "stream",
     "text": [
      "W1 (4, 32)\n",
      "b1 (1, 32)\n",
      "W2 (32, 64)\n",
      "b2 (1, 64)\n",
      "W3 (64, 3)\n",
      "b3 (1, 3)\n"
     ]
    }
   ],
   "source": [
    "# Let's test it out\n",
    "n_inputs = X_train.shape[1] # Extract number of inputs from training dat a\n",
    "hidden_layers = [32, 64] # Layer 1 will have 32 neurons, Layer 2 two wil l have 32 neurons\n",
    "n_outputs = 3\n",
    "parameters = init_params(n_inputs,hidden_layers,n_outputs)\n",
    "for key, value in parameters.items():\n",
    "    print(key,value.shape)"
   ]
  },
  {
   "cell_type": "markdown",
   "metadata": {},
   "source": [
    "## Forward Model"
   ]
  },
  {
   "cell_type": "code",
   "execution_count": 7,
   "metadata": {},
   "outputs": [],
   "source": [
    "#define functions\n",
    "\n",
    "def sigmoid(z):\n",
    "    return 1 / (1 + np.exp(-z))\n",
    "def relu(z):\n",
    "    return np.maximum(0, z)\n",
    "def softmax(z):\n",
    "    m = z.shape[1]\n",
    "    n = z.shape[0]\n",
    "    sm = np.zeros((z.shape))\n",
    "    maxvals = np.reshape(np.amax(z,1),(-1,n)).T.dot(np.ones((1,m)))\n",
    "    exps = np.exp(z - maxvals)    \n",
    "    expsums = np.sum(exps,axis=1)\n",
    "    for i in range(0,m): \n",
    "        sm[:,i] = np.divide(exps[:,i],expsums)\n",
    "    return sm"
   ]
  },
  {
   "cell_type": "code",
   "execution_count": 8,
   "metadata": {},
   "outputs": [
    {
     "data": {
      "text/plain": [
       "array([ 7, 10])"
      ]
     },
     "execution_count": 8,
     "metadata": {},
     "output_type": "execute_result"
    }
   ],
   "source": [
    "np.array([[3],[4],[5]]).dot(np.array([[1,1,1]]))\n",
    "A = np.array([1,2,3])\n",
    "B = np.array([[1,2,4],[7,2,1]])\n",
    "np.reshape(np.amax(B,1),(-1,2)).T.dot(np.ones((1,3)))\n",
    "np.sum(B,axis=1)"
   ]
  },
  {
   "cell_type": "code",
   "execution_count": 9,
   "metadata": {},
   "outputs": [],
   "source": [
    "def L_model_forward(X, parameters, tanh=False, print_shapes=False):\n",
    "    \"\"\"\n",
    "    Runs X inputs through the model layers (based on the number paramete\n",
    "rs in `paremters` dictionary) for a single forward pass\n",
    "    Arguments:\n",
    "        X (numpy array): input data to be run through the model. Input s\n",
    "ize should match `n_inputs` specified in W1 of parameters arg\n",
    "        parameters (dictionary): model weights and bias vectors for each\n",
    "layer\n",
    "        tanh (boolean): if True, use tanh activation for hidden layers,\n",
    " else use ReLU (default)\n",
    "        print_shapes (boolean): purely for demonstration purposes; if Tr\n",
    "ue, print layer shapes\n",
    "    Retruns:\n",
    "        A (numpy array): the final layer output for a single forward pas\n",
    "s (A[L])\n",
    "        caches (tuple): cached layer outputs (used for backprop) in the\n",
    " form of ((A_prev, W, b), Z)\n",
    "    \"\"\"\n",
    "    L = len(parameters)//2\n",
    "    A = X\n",
    "    caches = []\n",
    "    \n",
    "    for l in range(1,L+1):\n",
    "        W = parameters['W'+str(l)] #read current weights\n",
    "        b = parameters['b'+str(l)]\n",
    "        A_prev = A                 #read previous A matrix\n",
    "        Z = A_prev.dot(W)+b        #current Z\n",
    "        \n",
    "        if print_shapes:\n",
    "            print(\"A[{}] shape:\".format(l), A_prev.shape) \n",
    "            print(\"W[{}] shape:\".format(l), W.shape) \n",
    "            print(\"Z[{}] shape:\".format(l), Z.shape)\n",
    "        \n",
    "        if l == L:\n",
    "            A = softmax(Z)\n",
    "        else:\n",
    "            if tanh:\n",
    "                A = np.tanh(Z)\n",
    "            else:\n",
    "                A = relu(Z)\n",
    "        \n",
    "        cache = ((A_prev, W, b), Z)\n",
    "        caches.append(cache)\n",
    "        \n",
    "    return A, caches\n",
    "        \n",
    "        "
   ]
  },
  {
   "cell_type": "code",
   "execution_count": 10,
   "metadata": {},
   "outputs": [
    {
     "name": "stdout",
     "output_type": "stream",
     "text": [
      "A[1] shape: (150, 4)\n",
      "W[1] shape: (4, 32)\n",
      "Z[1] shape: (150, 32)\n",
      "A[2] shape: (150, 32)\n",
      "W[2] shape: (32, 64)\n",
      "Z[2] shape: (150, 64)\n",
      "A[3] shape: (150, 64)\n",
      "W[3] shape: (64, 3)\n",
      "Z[3] shape: (150, 3)\n"
     ]
    },
    {
     "data": {
      "text/plain": [
       "(32, 64)"
      ]
     },
     "execution_count": 10,
     "metadata": {},
     "output_type": "execute_result"
    }
   ],
   "source": [
    "# Let's test it out\n",
    "n_inputs = X_train.shape[1] # Extract number of inputs from training data\n",
    "hidden_layers = [32, 64] # Layer 1 will have 32 neurons, Layer 2 two wil l have 64 neurons\n",
    "n_outputs = 3\n",
    "\n",
    "parameters = init_params(n_inputs,hidden_layers,n_outputs)\n",
    "# parameters = update_parameters(parameters,grads,0.01)\n",
    "AL, caches = L_model_forward(X_train,parameters,print_shapes=True) \n",
    "\n",
    "(a1,w2,b2), z2= caches[1]\n",
    "w2.shape"
   ]
  },
  {
   "cell_type": "markdown",
   "metadata": {},
   "source": [
    "## Cost"
   ]
  },
  {
   "cell_type": "code",
   "execution_count": 11,
   "metadata": {},
   "outputs": [],
   "source": [
    "def compute_cost(AL, Y):\n",
    "    \"\"\"\n",
    "    Computes the binary crossentropy loss\n",
    "    Arguments:\n",
    "        AL (numpy array): output of the last layer of the model (each el\n",
    "ement of array is sigmoid output between 0 and 1)\n",
    "        Y (numpy array): true Y values (0 or 1), should be same shape AL\n",
    "    Returns:\n",
    "        cost (float): the average loss over m instances\n",
    "    \"\"\"\n",
    "    \n",
    "    m = Y.shape[0]\n",
    "    \n",
    "    cost = -(1/m)*np.sum(np.multiply(Y,np.log(AL)))\n",
    "    return cost\n"
   ]
  },
  {
   "cell_type": "code",
   "execution_count": 12,
   "metadata": {},
   "outputs": [
    {
     "data": {
      "text/plain": [
       "1.0975392944192448"
      ]
     },
     "execution_count": 12,
     "metadata": {},
     "output_type": "execute_result"
    }
   ],
   "source": [
    "# Let's test it out\n",
    "# Calculate cost\n",
    "cost = compute_cost(AL,y_train)\n",
    "cost"
   ]
  },
  {
   "cell_type": "markdown",
   "metadata": {},
   "source": [
    "## Backward Model"
   ]
  },
  {
   "cell_type": "code",
   "execution_count": 13,
   "metadata": {},
   "outputs": [],
   "source": [
    "# def softmax_backward(dA, cache):\n",
    "#     \"\"\"Calculate gradients of loss with respect to Z\"\"\" \n",
    "#     z = cache\n",
    "#     m = z.shape[1]\n",
    "#     sm_d = np.zeros((z.shape))\n",
    "#     exps = np.exp(z)\n",
    "#     expsums = np.sum(exps,axis=1)\n",
    "# #     print(exxps)\n",
    "#     for i in range(0,m): \n",
    "#         s = np.divide(exps[:,i],exps[:,i]+expsums-exps[:,i])\n",
    "#         sm_d[:,i] = np.multiply(s,1-s)\n",
    "#     dz = np.multiply(dA,sm_d)\n",
    "#     return dz\n",
    "def softmax_backward(dA, cache):\n",
    "    \"\"\"Calculate gradients of loss with respect to Z\"\"\" \n",
    "    z = cache\n",
    "    n = z.shape[1]\n",
    "    s = softmax(z)\n",
    "    sm_d = np.zeros((z.shape))\n",
    "    for i in range(0,n):\n",
    "        s_in = s[:,i]\n",
    "        s_ex = np.delete(s,i,1)\n",
    "        dA_in = dA[:,i]\n",
    "        dA_ex = np.delete(dA,i,1)\n",
    "        dz_different = np.zeros((z.shape[0],z.shape[1]-1))\n",
    "        dz_same = np.multiply(s_in,1-s_in)\n",
    "        dz_different[:,0] = np.multiply(s_ex[:,0],-s_in)\n",
    "        dz_different[:,1] = np.multiply(s_ex[:,1],-s_in)\n",
    "#         print(dz_different.shape)\n",
    "        sm_d[:,i] = np.multiply(dA_in,dz_same)+np.multiply(dA_ex[:,0],dz_different[:,0])+np.multiply(dA_ex[:,1],dz_different[:,1])\n",
    "    return sm_d\n",
    "def tanh_backward(dA, cache):\n",
    "    \"\"\"Calculate gradients of loss with respect to Z\"\"\"\n",
    "    Z = cache\n",
    "    dZ = dA.T * (1 - np.tanh(Z)**2) # Multiply by dA (chain rule) return dZ\n",
    "    return dZ\n",
    "\n",
    "def relu_backward(dA, cache):\n",
    "    \"\"\"Calculate gradients of loss with respect to Z\"\"\"\n",
    "    Z = cache\n",
    "    dZ = np.array(dA.T, copy=True) # Multiply by dA (chain rule) dZ[Z <= 0] = 0\n",
    "    return dZ"
   ]
  },
  {
   "cell_type": "code",
   "execution_count": 14,
   "metadata": {},
   "outputs": [],
   "source": [
    "def L_model_backward(AL,Y,caches,tanh=True):\n",
    "    grads = {}\n",
    "    L = len(caches) # number of layers\n",
    "    m = AL.shape[0] # number of observers\n",
    "    \n",
    "    (A_prev, W, b), Z = caches[-1]\n",
    "    \n",
    "    dAL = -np.divide(Y,AL) # partial J/partial A\n",
    "    dZ = softmax_backward(dAL,Z) #partial J/partial Z\n",
    "    \n",
    "    dW = (1./m)*np.dot(dZ.T, A_prev) # partial J/partial W\n",
    "    db = (1./m)*np.sum(dZ.T, axis=1, keepdims=True) # partial J/partial b\n",
    "    \n",
    "    dA_prev = np.dot(W, dZ.T)\n",
    "    \n",
    "    grads['dW'+str(L)] = dW\n",
    "    grads['db'+str(L)] = db\n",
    "    \n",
    "    for l in reversed(range(1,L)):\n",
    "        (A_prev, W, b), Z = caches[l-1]\n",
    "        if tanh:\n",
    "            dZ = tanh_backward(dA_prev,Z)\n",
    "        else:\n",
    "            dZ = relu_backward(dA_prev,Z)\n",
    "        dW = (1. / m) * np.dot(dZ.T, A_prev)\n",
    "        db = (1. / m) * np.sum(dZ.T, axis=1, keepdims=True) # Calculate dA_prev for layer L-1\n",
    "        dA_prev = np.dot(W, dZ.T)\n",
    "        # Store gradients\n",
    "        grads[\"dW\" + str(l)] = dW\n",
    "        grads[\"db\" + str(l)] = db\n",
    "        \n",
    "    return grads\n",
    "    \n"
   ]
  },
  {
   "cell_type": "code",
   "execution_count": 15,
   "metadata": {},
   "outputs": [],
   "source": [
    "grads = L_model_backward(AL, y_train, caches, tanh=True)"
   ]
  },
  {
   "cell_type": "code",
   "execution_count": 16,
   "metadata": {},
   "outputs": [
    {
     "data": {
      "text/plain": [
       "(32, 1)"
      ]
     },
     "execution_count": 16,
     "metadata": {},
     "output_type": "execute_result"
    }
   ],
   "source": [
    "grads['db1'].shape"
   ]
  },
  {
   "cell_type": "markdown",
   "metadata": {},
   "source": [
    "## Update params"
   ]
  },
  {
   "cell_type": "code",
   "execution_count": 17,
   "metadata": {},
   "outputs": [],
   "source": [
    "def update_parameters(parameters, grads, learning_rate):\n",
    "    \"\"\"\n",
    "    Updates parameters W/b with gradients dW/db for each layer, to compl\n",
    "ete a step of backpropagation\n",
    "    Arguments:\n",
    "        parameters (dictionary): model weights and bias vectors for each\n",
    "layer\n",
    "        grads (dictionary): parameter gradients (output of `L_model_back\n",
    "ward` function)\n",
    "        learning_rate (float): learning rate for gradient descent step\n",
    "    Returns:\n",
    "        parameters (dictionary): updated weight and bias parameters\n",
    "    \"\"\"\n",
    "    L = len(parameters) // 2 # number of layers in the neural network # Update rule for each parameter; loop through each layer\n",
    "    for l in range(1, L+1):\n",
    "        parameters[\"W\" + str(l)] = parameters[\"W\" + str(l)] - learning_rate * grads[\"dW\" + str(l)].T # Tranpose to match weight shape\n",
    "        parameters[\"b\" + str(l)] = parameters[\"b\" + str(l)] - learning_rate * grads[\"db\" + str(l)].T # Tranpose to match weight shape\n",
    "    return parameters"
   ]
  },
  {
   "cell_type": "code",
   "execution_count": 18,
   "metadata": {},
   "outputs": [],
   "source": [
    "parameters = update_parameters(parameters,grads,0.01)"
   ]
  },
  {
   "cell_type": "code",
   "execution_count": 24,
   "metadata": {},
   "outputs": [
    {
     "name": "stdout",
     "output_type": "stream",
     "text": [
      "Epoch: 0 \tCost: 1.0984875263160834\n"
     ]
    },
    {
     "data": {
      "image/png": "[encoded data removed]",
      "text/plain": [
       "<Figure size 432x288 with 1 Axes>"
      ]
     },
     "metadata": {
      "needs_background": "light"
     },
     "output_type": "display_data"
    }
   ],
   "source": [
    "from sklearn.metrics import accuracy_score\n",
    "\n",
    "# Set parameters\n",
    "n_inputs = X_train.shape[1]\n",
    "n_outputs = 3\n",
    "hidden_layers = [32,64] # 2 layers, each with 32 neurons\n",
    "init_scale = 0.02\n",
    "learning_rate = 0.1\n",
    "tanh = True\n",
    "\n",
    "# Randomly initialize params\n",
    "parameters = init_params(n_inputs,hidden_layers, n_outputs, init_scale=init_scale)\n",
    "\n",
    "# Run model\n",
    "n_epochs =2000\n",
    "losses = []\n",
    "for epoch in range(n_epochs):\n",
    "    # Run forward propogation\n",
    "    AL, caches = L_model_forward(X_train, parameters, tanh=tanh)\n",
    "    \n",
    "    # Compute cost/accuracy; print after 2000 epochs\n",
    "    loss = compute_cost(AL, y_train)\n",
    "    losses.append(loss)\n",
    "#     if epoch % (n_epochs//10) == 0:\n",
    "    if epoch % 2000 == 0:\n",
    "#         y_hat = np.where(AL>0.5,1,0).reshape(-1)\n",
    "        print(\"Epoch:\",epoch, \"\\tCost:\", loss)\n",
    "\n",
    "    # Run backward popogation and update parameters\n",
    "    grads = L_model_backward(AL, y_train, caches, tanh=tanh)\n",
    "    parameters = update_parameters(parameters, grads, learning_rate)\n",
    "\n",
    "plt.plot(losses)\n",
    "plt.xlabel(\"Epoch\")\n",
    "plt.ylabel(\"Loss\")\n",
    "plt.show()\n",
    "AL, caches = L_model_forward(X_train, parameters, tanh=tanh)"
   ]
  },
  {
   "cell_type": "code",
   "execution_count": 25,
   "metadata": {},
   "outputs": [
    {
     "data": {
      "text/plain": [
       "0.9866666666666667"
      ]
     },
     "execution_count": 25,
     "metadata": {},
     "output_type": "execute_result"
    }
   ],
   "source": [
    "AL.shape\n",
    "AL_max_index = np.argmax(AL, axis=1)\n",
    "AL_max_index\n",
    "accuracy_score(y_train_original,AL_max_index)"
   ]
  },
  {
   "cell_type": "code",
   "execution_count": 26,
   "metadata": {},
   "outputs": [
    {
     "data": {
      "text/plain": [
       "array([[1, 3],\n",
       "       [4, 6]])"
      ]
     },
     "execution_count": 26,
     "metadata": {},
     "output_type": "execute_result"
    }
   ],
   "source": [
    "A = np.array([[1,2,3],[4,5,6]])\n",
    "a_del = np.delete(A, 1, 1)\n",
    "a_del"
   ]
  },
  {
   "cell_type": "code",
   "execution_count": 29,
   "metadata": {},
   "outputs": [
    {
     "data": {
      "text/plain": [
       "3"
      ]
     },
     "execution_count": 29,
     "metadata": {},
     "output_type": "execute_result"
    }
   ],
   "source": [
    "len(parameters)//2"
   ]
  },
  {
   "cell_type": "code",
   "execution_count": null,
   "metadata": {},
   "outputs": [],
   "source": []
  }
 ],
 "metadata": {
  "kernelspec": {
   "display_name": "Python 3",
   "language": "python",
   "name": "python3"
  },
  "language_info": {
   "codemirror_mode": {
    "name": "ipython",
    "version": 3
   },
   "file_extension": ".py",
   "mimetype": "text/x-python",
   "name": "python",
   "nbconvert_exporter": "python",
   "pygments_lexer": "ipython3",
   "version": "3.6.10"
  }
 },
 "nbformat": 4,
 "nbformat_minor": 4
}
